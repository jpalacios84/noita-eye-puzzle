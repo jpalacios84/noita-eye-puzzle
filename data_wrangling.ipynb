{
 "cells": [
  {
   "cell_type": "markdown",
   "id": "1f79e361",
   "metadata": {},
   "source": [
    "# Text to 5-state"
   ]
  },
  {
   "cell_type": "code",
   "execution_count": 97,
   "id": "571c4de7",
   "metadata": {},
   "outputs": [],
   "source": [
    "original1 = ('Orbiting this at a distance of roughly ninety-two million miles '\n",
    "             'is an utterly insignificant little blue green planet whose ape-'\n",
    "             'descended life forms are so amazingly primitive that they still '\n",
    "             'think digital watches are a pretty neat idea.')\n",
    "\n",
    "original2 = ('At vero eos et accusamus et iusto odio dignissimos ducimus qui '\n",
    "             'blanditiis praesentium voluptatum deleniti atque corrupti quos '\n",
    "             'dolores et quas molestias excepturi sint occaecati cupiditate '\n",
    "             'non provident, similique sunt in culpa qui officia deserunt '\n",
    "             'mollitia animi, id est laborum et dolorum fuga. Et harum '\n",
    "             'quidem rerum facilis est et expedita distinctio. Nam libero '\n",
    "             'tempore, cum soluta nobis est eligendi optio cumque nihil '\n",
    "             'impedit quo minus id quod maxime placeat facere possimus, '\n",
    "             'omnis voluptas assumenda est, omnis dolor repellendus. '\n",
    "             'Temporibus autem quibusdam et aut officiis debitis aut rerum '\n",
    "             'necessitatibus saepe eveniet ut et voluptates repudiandae sint '\n",
    "             'et molestiae non recusandae. Itaque earum rerum hic tenetur a '\n",
    "             'sapiente delectus, ut aut reiciendis voluptatibus maiores alias '\n",
    "             'consequatur aut perferendis doloribus asperiores repellat.')\n",
    "\n",
    "alphabet = {k : i for i,k in enumerate('abcdefghijklmnopqrstuvwxyz -.,—;’?!') }\n",
    "\n",
    "fromBase5 = lambda strNum: sum([int(d)*5**(len(strNum)-1-i) for i,d in enumerate(strNum)])\n",
    "\n",
    "def toBase5(x):\n",
    "    if x > fromBase5('444'):\n",
    "        raise ValueError(f'{x} is out of range')    \n",
    "    d = ''\n",
    "    for i in range(2, -1, -1):\n",
    "        d += str(x//5**i)\n",
    "        x -= (x//5**i)*5**i\n",
    "    return d\n",
    "\n",
    "with open('./encoded_text1.txt', 'w') as f:\n",
    "    f.write(''.join([toBase5(alphabet[c]) for c in original1.lower()]) + '\\n')\n",
    "    \n",
    "with open('./encoded_text2.txt', 'w') as f:\n",
    "    f.write(''.join([toBase5(alphabet[c]) for c in original2.lower()]) + '\\n')"
   ]
  },
  {
   "cell_type": "markdown",
   "id": "ee8b130b",
   "metadata": {},
   "source": [
    "# Random text to 5-state"
   ]
  },
  {
   "cell_type": "code",
   "execution_count": 84,
   "id": "734ea815",
   "metadata": {},
   "outputs": [],
   "source": [
    "import numpy as np\n",
    "\n",
    "# numpy.random.randint pulls from a discrete unioform distribution\n",
    "# https://en.wikipedia.org/wiki/Discrete_uniform_distribution\n",
    "alphabet_list = 'abcdefghijklmnopqrstuvwxyz -.'\n",
    "L = len(alphabet_list)\n",
    "original = ''.join([alphabet_list[n] for n in np.random.randint(0, L, len(original))])\n",
    "\n",
    "with open('./random_text.txt', 'w') as f:\n",
    "    f.write(''.join([toBase5(alphabet[c]) for c in original]) + '\\n')"
   ]
  },
  {
   "cell_type": "markdown",
   "id": "089598dc",
   "metadata": {},
   "source": [
    "# Larger text sample"
   ]
  },
  {
   "cell_type": "code",
   "execution_count": 101,
   "id": "3c8be5aa",
   "metadata": {},
   "outputs": [],
   "source": [
    "sample_text = ('Call me Ishmael. Some years ago—never mind how long precisely—having little or no money in my purse, and nothing particular to interest me on shore, I thought I would sail about a little and see the watery part of the world. It is a way I have of driving off the spleen and regulating the circulation. Whenever I find myself growing grim about the mouth; whenever it is a damp, drizzly November in my soul; whenever I find myself involuntarily pausing before coffin warehouses, and bringing up the rear of every funeral I meet; and especially whenever my hypos get such an upper hand of me, that it requires a strong moral principle to prevent me from deliberately stepping into the street, and methodically knocking people’s hats off—then, I account it high time to get to sea as soon as I can. This is my substitute for pistol and ball. With a philosophical flourish Cato throws himself upon his sword; I quietly take to the ship. There is nothing surprising in this. If they but knew it, almost all men in their degree, some time or other, cherish very nearly the same feelings towards the ocean with me. '\n",
    "               'There now is your insular city of the Manhattoes, belted round by wharves as Indian isles by coral reefs—commerce surrounds it with her surf. Right and left, the streets take you waterward. Its extreme downtown is the battery, where that noble mole is washed by waves, and cooled by breezes, which a few hours previous were out of sight of land. Look at the crowds of water-gazers there. '\n",
    "               'Circumambulate the city of a dreamy Sabbath afternoon. Go from Corlears Hook to Coenties Slip, and from thence, by Whitehall, northward. What do you see?—Posted like silent sentinels all around the town, stand thousands upon thousands of mortal men fixed in ocean reveries. Some leaning against the spiles; some seated upon the pier-heads; some looking over the bulwarks of ships from China; some high aloft in the rigging, as if striving to get a still better seaward peep. But these are all landsmen; of week days pent up in lath and plaster—tied to counters, nailed to benches, clinched to desks. How then is this? Are the green fields gone? What do they here? '\n",
    "               'But look! here come more crowds, pacing straight for the water, and seemingly bound for a dive. Strange! Nothing will content them but the extremest limit of the land; loitering under the shady lee of yonder warehouses will not suffice. No. They must get just as nigh the water as they possibly can without falling in. And there they stand—miles of them—leagues. Inlanders all, they come from lanes and alleys, streets and avenues—north, east, south, and west. Yet here they all unite. Tell me, does the magnetic virtue of the needles of the compasses of all those ships attract them thither? '\n",
    "               'Once more. Say you are in the country; in some high land of lakes. Take almost any path you please, and ten to one it carries you down in a dale, and leaves you there by a pool in the stream. There is magic in it. Let the most absent-minded of men be plunged in his deepest reveries—stand that man on his legs, set his feet a-going, and he will infallibly lead you to water, if water there be in all that region. Should you ever be athirst in the great American desert, try this experiment, if your caravan happen to be supplied with a metaphysical professor. Yes, as every one knows, meditation and water are wedded for ever. '\n",
    "               'But here is an artist. He desires to paint you the dreamiest, shadiest, quietest, most enchanting bit of romantic landscape in all the valley of the Saco. What is the chief element he employs? There stand his trees, each with a hollow trunk, as if a hermit and a crucifix were within; and here sleeps his meadow, and there sleep his cattle; and up from yonder cottage goes a sleepy smoke. Deep into distant woodlands winds a mazy way, reaching to overlapping spurs of mountains bathed in their hill-side blue. But though the picture lies thus tranced, and though this pine-tree shakes down its sighs like leaves upon this shepherd’s head, yet all were vain, unless the shepherd’s eye were fixed upon the magic stream before him. Go visit the Prairies in June, when for scores on scores of miles you wade knee-deep among Tiger-lilies—what is the one charm wanting?—Water—there is not a drop of water there! Were Niagara but a cataract of sand, would you travel your thousand miles to see it? Why did the poor poet of Tennessee, upon suddenly receiving two handfuls of silver, deliberate whether to buy him a coat, which he sadly needed, or invest his money in a pedestrian trip to Rockaway Beach? Why is almost every robust healthy boy with a robust healthy soul in him, at some time or other crazy to go to sea? Why upon your first voyage as a passenger, did you yourself feel such a mystical vibration, when first told that you and your ship were now out of sight of land? Why did the old Persians hold the sea holy? Why did the Greeks give it a separate deity, and own brother of Jove? Surely all this is not without meaning. And still deeper the meaning of that story of Narcissus, who because he could not grasp the tormenting, mild image he saw in the fountain, plunged into it and was drowned. But that same image, we ourselves see in all rivers and oceans. It is the image of the ungraspable phantom of life; and this is the key to it all.')\n",
    "\n",
    "with open('./encoded_text3.txt', 'w') as f:\n",
    "    f.write(''.join([toBase5(alphabet[c]) for c in sample_text.lower()]) + '\\n')"
   ]
  },
  {
   "cell_type": "markdown",
   "id": "e019479f",
   "metadata": {},
   "source": [
    "# Unknown cipher shared by user Lymm"
   ]
  },
  {
   "cell_type": "code",
   "execution_count": 108,
   "id": "b6d39a1f",
   "metadata": {},
   "outputs": [],
   "source": [
    "sample_text = \"\"\"\n",
    "8XK0#&<@3+p'<31/E=][RD2n3S8+q[G3=5UCGg7)lp=0l4J:8/pSFeWC15J`IaTX%;9?=)O\n",
    "\n",
    "#YSQZ?I<T!g,L1$jT@,6.!YLQD)OjqSQ6&k.q64Ll_VT9,/eDB0 eT]Me2%]PH:DY]MVHNT'<><E*m:$cOg4&iaS]NUGMSF+CcUk0PCF6VI.8McLC6@J=\"2HFg*\n",
    "\n",
    "k^n1/Ph5#-jVB<:P@2 6)e' XJ64JBb`XJTK=- 86YK;?_\n",
    "\n",
    "C69OU(K=-1QD-%E8NcB@.qcTDMT(.!]&[Yo?-7i\\fVDZFdIGPfOYn1m\\A?PCF(n1Ii\\F2q\n",
    "\n",
    "RP>. k] cV?WUFDJ+q6VIH6r[aTW:RreO\"hr4J3OYLd1$qclr[@>TljlZp^h5,rdI_McOdjp Vn;.&$\\bKUF9=\"hXb</g4&[e_D6l\\J`Ld1$<\\J/rEGEN3#CF+Rg*fi=-r`#d'f+K>5(gZpYK0Vkr(.!dgJdWmVT9\n",
    "\n",
    ";Q:- \\!A4IPY_RB:,6;.f9fd2%]@IOd'c3%a&F9N\"ciWGm20N3%;+hXK0F8>5#YLk!%E<*;.FfY3SAGEOM/OB'1\"ec&l\n",
    "\n",
    "bk[#9\\JTrWJ=&>^Q0.o_QI;E][Y)n%h;^\\*pQD)>T=`Sqo_I;+q4#Ia.!mRD0.DYc=F\\JT!(n1!#!YRD4&-n1r5!6L5Mm_OG9C[(nXnWZ=U\"hYIG,R\n",
    "\"\"\"\n",
    "\n",
    "alphabet86 = {k : i for i,k in enumerate(''.join(set(sample_text))) }\n",
    "with open('./lymm_cipher.txt', 'w') as f:\n",
    "    f.write(''.join([toBase5(alphabet86[c]) for c in sample_text]) + '\\n')"
   ]
  }
 ],
 "metadata": {
  "kernelspec": {
   "display_name": "Python 3 (ipykernel)",
   "language": "python",
   "name": "python3"
  },
  "language_info": {
   "codemirror_mode": {
    "name": "ipython",
    "version": 3
   },
   "file_extension": ".py",
   "mimetype": "text/x-python",
   "name": "python",
   "nbconvert_exporter": "python",
   "pygments_lexer": "ipython3",
   "version": "3.10.7"
  }
 },
 "nbformat": 4,
 "nbformat_minor": 5
}
